{
 "cells": [
  {
   "cell_type": "code",
   "execution_count": 2,
   "metadata": {},
   "outputs": [],
   "source": [
    "def touch(path: str) -> bool:   # -> bool은 return이 어떤 데이터 타입을 리턴하는지 힌트를 줌\n",
    "    \"\"\"\n",
    "    새로운 파일을 생성합니다.\n",
    "    문자열로 상대 혹은 절대 경로를 전달인자로 입력합니다.\n",
    "    \"\"\"\n",
    "    with open(path, 'a') as f:\n",
    "        pass\n",
    "    return True"
   ]
  },
  {
   "cell_type": "code",
   "execution_count": 3,
   "metadata": {},
   "outputs": [],
   "source": [
    "import os\n",
    "\n",
    "os.makedirs('./glob_test/src/docs')\n",
    "os.mkdir('./glob_test/src/imgs')\n",
    "os.makedirs('./glob_test/src/memos')"
   ]
  },
  {
   "cell_type": "code",
   "execution_count": 4,
   "metadata": {},
   "outputs": [
    {
     "data": {
      "text/plain": [
       "True"
      ]
     },
     "execution_count": 4,
     "metadata": {},
     "output_type": "execute_result"
    }
   ],
   "source": [
    "touch('./glob_test/README.md')\n",
    "touch('./glob_test/src/README.md')\n",
    "touch('./glob_test/src/docs/README.md')\n",
    "\n",
    "touch('./glob_test/dog.jpg')\n",
    "touch('./glob_test/dogs.png')\n",
    "touch('./glob_test/me_and_dog.jpg')\n",
    "touch('./glob_test/me_and_dog_and_cat.jpg')\n",
    "touch('./glob_test/src/dog.jpg')\n",
    "touch('./glob_test/src/charing_dock.docx')\n",
    "touch('./glob_test/duck.png')\n",
    "touch('./glob_test/src/imgs/dog.jpg')\n",
    "touch('./glob_test/src/imgs/ducks_and_dog.jpg')\n",
    "touch('./glob_test/src/imgs/ducks_and_dog_and_cats.jpg')\n",
    "touch('./glob_test/src/imgs/ducks.jpg')\n",
    "touch('./glob_test/src/imgs/dolls.jpg')"
   ]
  },
  {
   "cell_type": "code",
   "execution_count": 5,
   "metadata": {},
   "outputs": [
    {
     "name": "stdout",
     "output_type": "stream",
     "text": [
      "['./glob_test\\\\d271dogs.jpg', './glob_test\\\\d38dogs.jpg', './glob_test\\\\dog.jpg']\n",
      "['./glob_test\\\\dog.jpg', './glob_test\\\\src\\\\dog.jpg', './glob_test\\\\src\\\\imgs\\\\dog.jpg']\n",
      "['./glob_test\\\\src\\\\dog.jpg']\n",
      "['./glob_test\\\\src\\\\dog.jpg']\n"
     ]
    },
    {
     "data": {
      "text/plain": [
       "['./glob_test\\\\dog.jpg',\n",
       " './glob_test\\\\src\\\\dog.jpg',\n",
       " './glob_test\\\\src\\\\imgs\\\\dog.jpg',\n",
       " './glob_test\\\\src\\\\imgs\\\\dolls.jpg',\n",
       " './glob_test\\\\src\\\\imgs\\\\ducks.jpg',\n",
       " './glob_test\\\\src\\\\imgs\\\\ducks_and_dog.jpg',\n",
       " './glob_test\\\\src\\\\imgs\\\\ducks_and_dog_and_cats.jpg']"
      ]
     },
     "execution_count": 5,
     "metadata": {},
     "output_type": "execute_result"
    }
   ],
   "source": [
    "import glob\n",
    "\n",
    "print(glob.glob('./glob_test/d*.jpg'))\n",
    "print(glob.glob('./glob_test/**/dog.jpg', recursive=True))\n",
    "print(glob.glob('./glob_test/*/dog.jpg', recursive=True))\n",
    "print(glob.glob('./glob_test/**/dog.jpg'))\n",
    "glob.glob(r'./glob_test/**/d[aeiou]*.jpg', recursive=True)"
   ]
  },
  {
   "cell_type": "code",
   "execution_count": 6,
   "metadata": {},
   "outputs": [
    {
     "data": {
      "text/plain": [
       "True"
      ]
     },
     "execution_count": 6,
     "metadata": {},
     "output_type": "execute_result"
    }
   ],
   "source": [
    "touch('./glob_test/d271dogs.jpg')\n",
    "touch('./glob_test/d38dogs.jpg')\n",
    "touch('./glob_test/가상현실.jpg')\n",
    "touch('./glob_test/고정형장비점검현황.xlsx')\n",
    "touch('./glob_test/점검표.xlsx')\n",
    "touch('./glob_test/화이팅.pdf')\n",
    "touch('./glob_test/a2c4.jpg')"
   ]
  },
  {
   "cell_type": "code",
   "execution_count": 7,
   "metadata": {},
   "outputs": [
    {
     "name": "stdout",
     "output_type": "stream",
     "text": [
      "['./glob_test\\\\a2c4.jpg']\n",
      "['./glob_test\\\\가상현실.jpg', './glob_test\\\\고정형장비점검현황.xlsx', './glob_test\\\\점검표.xlsx', './glob_test\\\\화이팅.pdf']\n",
      "['./glob_test\\\\가상현실.jpg', './glob_test\\\\고정형장비점검현황.xlsx']\n"
     ]
    }
   ],
   "source": [
    "# 현재 경로에서 2번째,4번째 글자가 숫자인 모든 jpg파일\n",
    "print(glob.glob('./glob_test/?[0-9]?[0-9].jpg'))\n",
    "# 현재 경로 아래의 모든 한글이 포함된 파일\n",
    "print(glob.glob('./glob_test/**/*[가-힣]*', recursive=True))\n",
    "# 현재 경로 아래의 모든 파일 중 ㄱ으로 시작하는 모든 파일\n",
    "print(glob.glob('./glob_test/**/[가-깋]*', recursive=True))"
   ]
  },
  {
   "cell_type": "code",
   "execution_count": 8,
   "metadata": {},
   "outputs": [
    {
     "data": {
      "text/plain": [
       "'./glob_test/src/docs\\\\dog.jpg'"
      ]
     },
     "execution_count": 8,
     "metadata": {},
     "output_type": "execute_result"
    }
   ],
   "source": [
    "import shutil\n",
    "\n",
    "# os.rename은 사실 이름을 바꾸는거고, shutil은 위치만 적어주면 파일 이름은 그대로 두고 이동 지원한다.\n",
    "shutil.move('./glob_test/src/imgs/dog.jpg', './glob_test/src/docs')"
   ]
  },
  {
   "cell_type": "code",
   "execution_count": 9,
   "metadata": {},
   "outputs": [
    {
     "data": {
      "text/plain": [
       "'./glob_test/src/docs\\\\imgs'"
      ]
     },
     "execution_count": 9,
     "metadata": {},
     "output_type": "execute_result"
    }
   ],
   "source": [
    "shutil.move('./glob_test/src/imgs/', './glob_test/src/docs')    # 디렉토리 이동"
   ]
  },
  {
   "cell_type": "code",
   "execution_count": 10,
   "metadata": {},
   "outputs": [
    {
     "data": {
      "text/plain": [
       "'./glob_test/src/memos\\\\dog.jpg'"
      ]
     },
     "execution_count": 10,
     "metadata": {},
     "output_type": "execute_result"
    }
   ],
   "source": [
    "# 파일 복사\n",
    "shutil.copy('./glob_test/src/docs/dog.jpg', './glob_test/src/memos')"
   ]
  },
  {
   "cell_type": "code",
   "execution_count": 11,
   "metadata": {},
   "outputs": [
    {
     "data": {
      "text/plain": [
       "'./glob_test/src/imgs'"
      ]
     },
     "execution_count": 11,
     "metadata": {},
     "output_type": "execute_result"
    }
   ],
   "source": [
    "# 디렉토리 복사\n",
    "shutil.copytree('./glob_test/src/docs/imgs', './glob_test/src/imgs')"
   ]
  },
  {
   "cell_type": "code",
   "execution_count": 12,
   "metadata": {},
   "outputs": [],
   "source": [
    "\n",
    "dirs = [\n",
    "    f_name for f_name in os.listdir('./glob_test/src/')\n",
    "    if os.path.isdir(f'./glob_test/src/{f_name}')    \n",
    "]\n",
    "\n",
    "# 디렉토리 삭제(안에 파일이 있어도 전부 삭제, os.removedirs는 빈 디렉토리만 삭제)\n",
    "for dir in dirs:\n",
    "    shutil.rmtree(f'./glob_test/src/{dir}') # rm -r"
   ]
  },
  {
   "cell_type": "code",
   "execution_count": 13,
   "metadata": {},
   "outputs": [],
   "source": [
    "os_remove = [\n",
    "    f_name for f_name in glob.glob('./glob_test/src/*')\n",
    "    if f_name[-4:] != 'docx'\n",
    "]\n",
    "\n",
    "for f_name in os_remove:\n",
    "    os.remove(f_name)"
   ]
  },
  {
   "cell_type": "markdown",
   "metadata": {},
   "source": [
    "## 조건별 파일 분리"
   ]
  },
  {
   "cell_type": "code",
   "execution_count": 29,
   "metadata": {},
   "outputs": [],
   "source": [
    "import random\n",
    "from string import ascii_lowercase"
   ]
  },
  {
   "cell_type": "code",
   "execution_count": 30,
   "metadata": {},
   "outputs": [
    {
     "name": "stdout",
     "output_type": "stream",
     "text": [
      "abcdefghijklmnopqrstuvwxyz\n",
      "<class 'str'>\n"
     ]
    },
    {
     "data": {
      "text/plain": [
       "'x'"
      ]
     },
     "execution_count": 30,
     "metadata": {},
     "output_type": "execute_result"
    }
   ],
   "source": [
    "print(ascii_lowercase)\n",
    "print(type(ascii_lowercase))\n",
    "random.choice(ascii_lowercase)"
   ]
  },
  {
   "cell_type": "code",
   "execution_count": 36,
   "metadata": {},
   "outputs": [
    {
     "name": "stdout",
     "output_type": "stream",
     "text": [
      "['y', 'p', 'x', 'g', 'b']\n",
      "ypxgb\n"
     ]
    }
   ],
   "source": [
    "result = []\n",
    "\n",
    "# for _ in range(5):\n",
    "#     result.append(random.choice(ascii_lowercase))\n",
    "result = [random.choice(ascii_lowercase) for _ in range(5)]\n",
    "print(result)\n",
    "print(''.join(result))"
   ]
  },
  {
   "cell_type": "code",
   "execution_count": 37,
   "metadata": {},
   "outputs": [
    {
     "name": "stdout",
     "output_type": "stream",
     "text": [
      "['ayeby', 'qexrq', 'rcehs', 'zeinv', 'gavst', 'szkdh']\n"
     ]
    }
   ],
   "source": [
    "r_strings = []\n",
    "for _ in range(6):\n",
    "    r_strings.append(''.join([random.choice(ascii_lowercase) for _ in range(5)]))\n",
    "print(r_strings)"
   ]
  },
  {
   "cell_type": "code",
   "execution_count": 38,
   "metadata": {},
   "outputs": [],
   "source": [
    "os.makedirs('./file_classification_test/src/reports')\n",
    "os.makedirs('./file_classification_test/src/memos')\n",
    "os.makedirs('./file_classification_test/src/closings')\n",
    "os.makedirs('./file_classification_test/src/presentations')"
   ]
  },
  {
   "cell_type": "code",
   "execution_count": 39,
   "metadata": {},
   "outputs": [],
   "source": [
    "for r_string in r_strings:\n",
    "    touch(f'./file_classification_test/{r_string}-보고서.docx')\n",
    "    touch(f'./file_classification_test/결산-{r_string}.xlsx')\n",
    "    touch(f'./file_classification_test/memo-{r_string}-2023.md')\n",
    "    touch(f'./file_classification_test/{r_string}-발표자료.pptx')"
   ]
  },
  {
   "cell_type": "code",
   "execution_count": 44,
   "metadata": {},
   "outputs": [],
   "source": [
    "def classify_files():\n",
    "    \"\"\"\n",
    "    파일을 규칙에 따라 분류함.\n",
    "    \"\"\"\n",
    "    to_moves = glob.glob('./file_classification_test/*.*')\n",
    "\n",
    "    # if '보고서' in to_move:\n",
    "    #     shutil.move(to_move, './file_classification_test/src/reports')\n",
    "    # elif 'memo' in to_move:\n",
    "    #     shutil.move(to_move, './file_classification_test/src/memos')\n",
    "    # elif '결산' in to_move:\n",
    "    #     shutil.move(to_move, './file_classification_test/src/closings')\n",
    "    # elif '발표자료' in to_move:\n",
    "    #     shutil.move(to_move, './file_classification_test/src/presentations')\n",
    "\n",
    "    keyword_dict = {'보고서':'reports', 'memo':'memos', '결산':'closings', '발표자료':'presentations'}\n",
    "\n",
    "    for to_move in to_moves:\n",
    "        for key, value in keyword_dict.items():\n",
    "            if key in to_move:\n",
    "                shutil.move(to_move, f'./file_classification_test/src/{value}')\n",
    "                break\n"
   ]
  },
  {
   "cell_type": "code",
   "execution_count": 45,
   "metadata": {},
   "outputs": [],
   "source": [
    "classify_files()"
   ]
  },
  {
   "cell_type": "code",
   "execution_count": 46,
   "metadata": {},
   "outputs": [
    {
     "data": {
      "text/plain": [
       "True"
      ]
     },
     "execution_count": 46,
     "metadata": {},
     "output_type": "execute_result"
    }
   ],
   "source": [
    "touch('./file_classification_test/23 산자부 협력건.hwp')\n",
    "touch('./file_classification_test/24년도 수리예산.xlsx')\n",
    "touch('./file_classification_test/협업제안서.pdf')\n",
    "touch('./file_classification_test/SN A18274.jpg')\n",
    "touch('./file_classification_test/dogs.png')\n",
    "touch('./file_classification_test/230906-수리과정.avi')\n",
    "touch('./file_classification_test/230907.mp4')"
   ]
  },
  {
   "cell_type": "code",
   "execution_count": 48,
   "metadata": {},
   "outputs": [],
   "source": [
    "for dir_name in ['docs', 'imgs', 'videos']:\n",
    "    os.mkdir(f'./file_classification_test/src/{dir_name}')"
   ]
  },
  {
   "cell_type": "code",
   "execution_count": 50,
   "metadata": {},
   "outputs": [],
   "source": [
    "def classify_files_with_extension():\n",
    "    to_moves = glob.glob('./file_classification_test/*.*')\n",
    "\n",
    "    keyword_dict = {'docs': ['hwp','docx','xlsx','docx','pdf','pptx','odf'],\n",
    "                    'imgs': ['jpg','png','gif','webp','bmp'],\n",
    "                    'videos': ['avi','mp4','webm']}\n",
    "\n",
    "    for to_move in to_moves:\n",
    "        to_move_ext = to_move.split('.')[-1]\n",
    "        for key, value in keyword_dict.items():\n",
    "            if to_move_ext in value:\n",
    "                shutil.move(to_move, f'./file_classification_test/src/{key}')\n",
    "                break"
   ]
  },
  {
   "cell_type": "code",
   "execution_count": 51,
   "metadata": {},
   "outputs": [],
   "source": [
    "classify_files_with_extension()"
   ]
  },
  {
   "cell_type": "code",
   "execution_count": 52,
   "metadata": {},
   "outputs": [],
   "source": [
    "shutil.rmtree('./file_classification_test/src')"
   ]
  },
  {
   "cell_type": "code",
   "execution_count": null,
   "metadata": {},
   "outputs": [],
   "source": []
  }
 ],
 "metadata": {
  "kernelspec": {
   "display_name": "base",
   "language": "python",
   "name": "python3"
  },
  "language_info": {
   "codemirror_mode": {
    "name": "ipython",
    "version": 3
   },
   "file_extension": ".py",
   "mimetype": "text/x-python",
   "name": "python",
   "nbconvert_exporter": "python",
   "pygments_lexer": "ipython3",
   "version": "3.9.13"
  },
  "orig_nbformat": 4
 },
 "nbformat": 4,
 "nbformat_minor": 2
}
