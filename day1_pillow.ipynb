{
 "cells": [
  {
   "cell_type": "markdown",
   "metadata": {},
   "source": [
    "## Pillow"
   ]
  },
  {
   "cell_type": "code",
   "execution_count": 1,
   "metadata": {},
   "outputs": [
    {
     "name": "stdout",
     "output_type": "stream",
     "text": [
      "Requirement already satisfied: pillow in c:\\users\\user\\anaconda3\\lib\\site-packages (9.2.0)\n",
      "Note: you may need to restart the kernel to use updated packages.\n"
     ]
    }
   ],
   "source": [
    "%pip install pillow"
   ]
  },
  {
   "cell_type": "code",
   "execution_count": 2,
   "metadata": {},
   "outputs": [],
   "source": [
    "from PIL import Image"
   ]
  },
  {
   "cell_type": "code",
   "execution_count": 6,
   "metadata": {},
   "outputs": [],
   "source": [
    "cat_pic = Image.open('./imgs/cats.jpg')"
   ]
  },
  {
   "cell_type": "code",
   "execution_count": 16,
   "metadata": {},
   "outputs": [],
   "source": [
    "cat_pic.show()"
   ]
  },
  {
   "cell_type": "code",
   "execution_count": 10,
   "metadata": {},
   "outputs": [
    {
     "name": "stdout",
     "output_type": "stream",
     "text": [
      "(4896, 3264)\n",
      "4896\n",
      "3264\n",
      "JPEG\n"
     ]
    }
   ],
   "source": [
    "print(cat_pic.size)\n",
    "print(cat_pic.width)\n",
    "print(cat_pic.height)\n",
    "print(cat_pic.format)"
   ]
  },
  {
   "cell_type": "code",
   "execution_count": 18,
   "metadata": {},
   "outputs": [],
   "source": [
    "cat_pic.resize((int(cat_pic.width*0.1),int(cat_pic.height*0.1))).show()"
   ]
  },
  {
   "cell_type": "code",
   "execution_count": 22,
   "metadata": {},
   "outputs": [],
   "source": [
    "def resize_img(obj:Image, ratio:float) -> Image:\n",
    "    \"\"\"\n",
    "    사용자가 정의한 비율에 따라 이미지 조정\n",
    "    \"\"\"\n",
    "    return obj.resize((int(obj.width*ratio),int(obj.height*ratio)))"
   ]
  },
  {
   "cell_type": "code",
   "execution_count": null,
   "metadata": {},
   "outputs": [],
   "source": [
    "resize_img(cat_pic, 0.1)"
   ]
  },
  {
   "cell_type": "code",
   "execution_count": 26,
   "metadata": {},
   "outputs": [],
   "source": [
    "# 이미지 크롭하기(시작, 끝 좌표를 한 tuple에 입력)\n",
    "cropped = cat_pic.crop((2600,950,4200,2400))\n",
    "cropped.show()\n",
    "cropped.save('./imgs/cropped_cat.png')"
   ]
  },
  {
   "cell_type": "code",
   "execution_count": 27,
   "metadata": {},
   "outputs": [],
   "source": [
    "# 이미지 회전하기\n",
    "rotated = cat_pic.rotate(90)\n",
    "rotated.show()"
   ]
  },
  {
   "cell_type": "code",
   "execution_count": 30,
   "metadata": {},
   "outputs": [],
   "source": [
    "# 이미지 대칭반전\n",
    "from PIL.Image import Transpose\n",
    "\n",
    "flipped_hr = cat_pic.transpose(Transpose.FLIP_LEFT_RIGHT)\n",
    "flipped_hr.show()\n",
    "\n",
    "# flipped_vt\n",
    "cat_pic.transpose(Transpose.FLIP_TOP_BOTTOM).show()"
   ]
  },
  {
   "cell_type": "code",
   "execution_count": 31,
   "metadata": {},
   "outputs": [
    {
     "name": "stdout",
     "output_type": "stream",
     "text": [
      "origin size : (4896, 3264)\n",
      "now : (256, 171)\n"
     ]
    }
   ],
   "source": [
    "# 이미지 썸네일 생성하기\n",
    "thumbnail_size = (256,256)\n",
    "print(f'origin size : {cat_pic.size}')\n",
    "cat_pic.thumbnail(thumbnail_size)\n",
    "print(f'now : {cat_pic.size}')\n",
    "cat_pic.show()"
   ]
  },
  {
   "cell_type": "code",
   "execution_count": 32,
   "metadata": {},
   "outputs": [],
   "source": [
    "cat_pic.save('./imgs/thumbnail_cat.png')\n",
    "\n",
    "# Tip! : jpg는 투명 배경 불가, png는 투명 배경 가능"
   ]
  },
  {
   "cell_type": "code",
   "execution_count": 45,
   "metadata": {},
   "outputs": [],
   "source": [
    "# 이미지 합치기\n",
    "img_canvas = Image.new(\"RGB\", (cat_pic.width*2,cat_pic.height*2), '#0000bb')\n",
    "img_canvas.paste(cat_pic, (0,0)) # img객체, 시작 좌표\n",
    "img_canvas.paste(cat_pic.transpose(Transpose.FLIP_LEFT_RIGHT), (cat_pic.width,0))\n",
    "img_canvas.paste(cat_pic.transpose(Transpose.FLIP_TOP_BOTTOM), (0,cat_pic.height))\n",
    "img_canvas.paste(cat_pic.transpose(Transpose.FLIP_LEFT_RIGHT).transpose(Transpose.FLIP_TOP_BOTTOM), (cat_pic.width,cat_pic.height))\n",
    "\n",
    "img_canvas.show()"
   ]
  },
  {
   "cell_type": "code",
   "execution_count": 46,
   "metadata": {},
   "outputs": [],
   "source": [
    "img_canvas.save('./imgs/merged_cat.png')\n"
   ]
  },
  {
   "cell_type": "code",
   "execution_count": 47,
   "metadata": {},
   "outputs": [],
   "source": [
    "from PIL import ImageFilter"
   ]
  },
  {
   "cell_type": "code",
   "execution_count": 51,
   "metadata": {},
   "outputs": [
    {
     "name": "stdout",
     "output_type": "stream",
     "text": [
      "CONTOUR\n"
     ]
    }
   ],
   "source": [
    "# Gaussian blur\n",
    "g_blurred = cat_pic.filter(ImageFilter.GaussianBlur(10))\n",
    "\n",
    "cat_pic.filter(ImageFilter.EMBOSS).show()\n",
    "cat_pic.filter(ImageFilter.CONTOUR).show()\n",
    "# print(ImageFilter.CONTOUR.__name__)   # Filter 이름 호출\n",
    "\n"
   ]
  },
  {
   "cell_type": "code",
   "execution_count": 53,
   "metadata": {},
   "outputs": [],
   "source": [
    "from PIL.ImageOps import grayscale, equalize\n",
    "\n",
    "grayscale(cat_pic).show()\n",
    "equalize(cat_pic).show()"
   ]
  },
  {
   "cell_type": "code",
   "execution_count": 57,
   "metadata": {},
   "outputs": [],
   "source": [
    "from PIL.ImageEnhance import Contrast, Brightness\n",
    "\n",
    "Contrast(cat_pic).enhance(0.1).show()\n",
    "Brightness(cat_pic).enhance(2.0).show()"
   ]
  },
  {
   "cell_type": "code",
   "execution_count": 62,
   "metadata": {},
   "outputs": [],
   "source": [
    "# 이미지 크롭하기(사진 9등분)\n",
    "\n",
    "x_y_dict = {'x_0':0, 'y_0':0,\n",
    "            'x_1':int(cat_pic.width/3), 'y_1':int(cat_pic.height/3),\n",
    "            'x_2':int(cat_pic.width/3)*2, 'y_2':int(cat_pic.height/3)*2,\n",
    "            'x_3':cat_pic.width, 'y_3':cat_pic.height\n",
    "            }\n",
    "\n",
    "cropped = []\n",
    "for index in range(9):\n",
    "    cropped.append(cat_pic.crop((x_y_dict[f'x_{index%3}'],x_y_dict[f'y_{index//3}'],\n",
    "                                 x_y_dict[f'x_{index%3+1}'],x_y_dict[f'y_{index//3+1}'])))\n",
    "    cropped[index].save(f'./imgs/cat_{index}.png')\n"
   ]
  },
  {
   "cell_type": "code",
   "execution_count": null,
   "metadata": {},
   "outputs": [],
   "source": []
  }
 ],
 "metadata": {
  "kernelspec": {
   "display_name": "base",
   "language": "python",
   "name": "python3"
  },
  "language_info": {
   "codemirror_mode": {
    "name": "ipython",
    "version": 3
   },
   "file_extension": ".py",
   "mimetype": "text/x-python",
   "name": "python",
   "nbconvert_exporter": "python",
   "pygments_lexer": "ipython3",
   "version": "3.9.13"
  },
  "orig_nbformat": 4
 },
 "nbformat": 4,
 "nbformat_minor": 2
}
