{
 "cells": [
  {
   "cell_type": "markdown",
   "metadata": {},
   "source": [
    "## Computational Thinking Practice\n",
    "- 얼마나 배가 고픈가?\n",
    "    * \\>50, 현재 장소는 어디?  \n",
    "        -- 집, 집밥 먹는다  \n",
    "        -- 회사, 회사밥 먹는다\n",
    "    * <=50, 참는다  \n",
    "    \n",
    "      (마크다운에서 수식 표현하기 : $y=ax+b$)\n"
   ]
  },
  {
   "cell_type": "markdown",
   "metadata": {},
   "source": [
    "## List & Tuple"
   ]
  },
  {
   "cell_type": "code",
   "execution_count": 48,
   "metadata": {},
   "outputs": [
    {
     "data": {
      "text/plain": [
       "{'cat', 'dog'}"
      ]
     },
     "execution_count": 48,
     "metadata": {},
     "output_type": "execute_result"
    }
   ],
   "source": [
    "##### List\n",
    "zoo = ['cat', 'dog']\n",
    "zoo.append('squirrel')\n",
    "zoo.insert(2, 'hamster')\n",
    "\n",
    "##### Dictionary - index into string\n",
    "zoo_manager = {'cat' : 'sami', 'dog' : 'hyejin'}\n",
    "# print(hash('dog'))  # Dictionary는 hash 함수를 거쳐서 값을 찾아내는데 시간 복잡도가 O(1)이라 대량의 data를 다루는데 좋다.\n",
    "# zoo_manager['cat']\n",
    "\n",
    "##### Tuple - uneditable\n",
    "zoo_founders = ('sami', 'hyejin')\n",
    "# zoo_founders[0] = 'sam'   # Error! Data 변경 불가능\n",
    "zoo_founders = ('sam', 'hyejin')  # Tuple 자체를 재지정하므로 수행 가능\n",
    "# print(zoo_founders)\n",
    "\n",
    "##### Set - a list without duplication\n",
    "zoo_animals = ['cat', 'dog', 'dog', 'dog', 'cat']\n",
    "set(zoo_animals)    # 중복 제거하는 가장 빠른 방법"
   ]
  },
  {
   "cell_type": "code",
   "execution_count": 42,
   "metadata": {},
   "outputs": [
    {
     "name": "stdout",
     "output_type": "stream",
     "text": [
      "cat is cute!\n",
      "dog is cute!\n",
      "hamster is cute!\n",
      "squirrel is cute!\n",
      "Wow, so cute!\n",
      "Wow, so cute!\n",
      "Wow, so cute!\n",
      "Wow, so cute!\n"
     ]
    }
   ],
   "source": [
    "### List\n",
    "\n",
    "for animal in zoo:\n",
    "    print(f'{animal} is cute!')\n",
    "    \n",
    "for _ in range(len(zoo)):\n",
    "    print(\"Wow, so cute!\")\n",
    "    "
   ]
  },
  {
   "cell_type": "code",
   "execution_count": 47,
   "metadata": {},
   "outputs": [
    {
     "name": "stdout",
     "output_type": "stream",
     "text": [
      "cat\n",
      "dog\n",
      "dict_keys(['cat', 'dog'])\n",
      "dict_values(['sami', 'hyejin'])\n",
      "dict_items([('cat', 'sami'), ('dog', 'hyejin')])\n",
      "cat sami\n",
      "dog hyejin\n"
     ]
    }
   ],
   "source": [
    "### Dictionary\n",
    "\n",
    "for item in zoo_manager:\n",
    "    print(item)\n",
    "    \n",
    "print(zoo_manager.keys())\n",
    "print(zoo_manager.values())\n",
    "print(zoo_manager.items())\n",
    "\n",
    "for key, value in zoo_manager.items():\n",
    "    print(key, value)"
   ]
  },
  {
   "cell_type": "code",
   "execution_count": 49,
   "metadata": {},
   "outputs": [
    {
     "name": "stdout",
     "output_type": "stream",
     "text": [
      "2 1\n"
     ]
    }
   ],
   "source": [
    "### Tuple\n",
    "\n",
    "def get_div_and_rem(num1:int, num2:int) -> tuple:\n",
    "    \"\"\"\n",
    "    for quotient and remainder.\n",
    "\n",
    "    Args:\n",
    "        num1 (int): a numerator\n",
    "        num2 (int): a denominator\n",
    "    \"\"\" # multiline string (주석과는 달리 실제 코드 될때 수행되며, 메모리에 문자열이 할당된다. 여러줄의 문자열을 선언할때 사용.)\n",
    "    return(num1//num2, num1%num2)\n",
    "\n",
    "quo, rem = get_div_and_rem(7,3)\n",
    "print(quo, rem)\n"
   ]
  },
  {
   "cell_type": "code",
   "execution_count": 51,
   "metadata": {},
   "outputs": [
    {
     "name": "stdout",
     "output_type": "stream",
     "text": [
      "[1, 4, 9, 8, 5]\n"
     ]
    }
   ],
   "source": [
    "num_list = [1,2,3,4,5]\n",
    "new_list = [i*2 if i%2==0 else i*3 if i%3==0 else i for i in num_list]\n",
    "print(new_list)"
   ]
  }
 ],
 "metadata": {
  "kernelspec": {
   "display_name": "base",
   "language": "python",
   "name": "python3"
  },
  "language_info": {
   "codemirror_mode": {
    "name": "ipython",
    "version": 3
   },
   "file_extension": ".py",
   "mimetype": "text/x-python",
   "name": "python",
   "nbconvert_exporter": "python",
   "pygments_lexer": "ipython3",
   "version": "3.9.13"
  },
  "orig_nbformat": 4
 },
 "nbformat": 4,
 "nbformat_minor": 2
}
